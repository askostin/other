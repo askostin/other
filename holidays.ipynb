{
 "cells": [
  {
   "cell_type": "code",
   "execution_count": 1,
   "id": "79c835d9",
   "metadata": {},
   "outputs": [],
   "source": [
    "from datetime import date\n",
    "import calendar\n",
    "import pandas as pd"
   ]
  },
  {
   "cell_type": "markdown",
   "id": "0b41647b",
   "metadata": {},
   "source": [
    "https://python-holidays.readthedocs.io\n",
    "\n",
    "https://pypi.org/project/work-calendar-ru/"
   ]
  },
  {
   "cell_type": "code",
   "execution_count": 2,
   "id": "7e0aab02",
   "metadata": {},
   "outputs": [],
   "source": [
    "# rest_days = holidays.RU()"
   ]
  },
  {
   "cell_type": "code",
   "execution_count": 3,
   "id": "f8325171",
   "metadata": {},
   "outputs": [],
   "source": [
    "years = range(2012, 2024)"
   ]
  },
  {
   "cell_type": "code",
   "execution_count": 4,
   "id": "a0b7d15c",
   "metadata": {},
   "outputs": [],
   "source": [
    "our_calendar = calendar.Calendar()"
   ]
  },
  {
   "cell_type": "code",
   "execution_count": 5,
   "id": "9778a1a6",
   "metadata": {},
   "outputs": [
    {
     "data": {
      "text/plain": [
       "[1, 2, 3, 4, 5]"
      ]
     },
     "execution_count": 5,
     "metadata": {},
     "output_type": "execute_result"
    }
   ],
   "source": [
    "list(range(1, 6))"
   ]
  },
  {
   "cell_type": "markdown",
   "id": "15f3d0dc",
   "metadata": {},
   "source": [
    "Статьей 112 Трудового кодекса Российской Федерации (в редакции от 23.04.2012) установлены следующие нерабочие праздничные дни в Российской Федерации:\n",
    "- 1, 2, 3, 4, 5, 6 и 8 января — Новогодние каникулы;\n",
    "- 7 января — Рождество Христово;\n",
    "- 23 февраля — День защитника Отечества;\n",
    "- 8 марта — Международный женский день;\n",
    "- 1 мая — Праздник Весны и Труда;\n",
    "- 9 мая — День Победы;\n",
    "- 12 июня — День России;\n",
    "- 4 ноября — День народного единства."
   ]
  },
  {
   "cell_type": "code",
   "execution_count": 6,
   "id": "a62a1c41",
   "metadata": {},
   "outputs": [],
   "source": [
    "holidays_since_2013 = pd.DataFrame(data = {\n",
    "    'month': [1]*8 + [2, 3, 5, 5, 6, 11],\n",
    "    'day': list(range(1, 9)) + [23, 8, 1, 9, 12, 4]\n",
    "    })"
   ]
  },
  {
   "cell_type": "markdown",
   "id": "fa375388",
   "metadata": {},
   "source": [
    "Ранее (в старой редакции) в Новогодние каникулы входили:\n",
    "- 1, 2, 3, 4 и 5 января"
   ]
  },
  {
   "cell_type": "code",
   "execution_count": 7,
   "id": "c4b39f97",
   "metadata": {},
   "outputs": [],
   "source": [
    "holidays_till_2013 = pd.DataFrame(data = {\n",
    "    'month': [1]*6 + [2, 3, 5, 5, 6, 11],\n",
    "    'day': list(range(1, 6)) + [7] + [23, 8, 1, 9, 12, 4]\n",
    "    })"
   ]
  },
  {
   "cell_type": "markdown",
   "id": "5675f666",
   "metadata": {},
   "source": [
    "Постановлениями Правительства РФ перенесены следующие выходные дни:\n",
    "\n",
    "В 2015:\n",
    "- с субботы 3 января на пятницу 9 января;\n",
    "- с воскресенья 4 января на понедельник 4 мая.\n",
    "\n",
    "[В 2021](https://www.consultant.ru/document/cons_doc_law_365179/):\n",
    "- с субботы 2 января на пятницу 5 ноября;\n",
    "- с воскресенья 3 января на пятницу 31 декабря;\n",
    "- с субботы 20 февраля на понедельник 22 февраля.\n",
    "\n",
    "[В 2022](https://www.consultant.ru/document/cons_doc_LAW_395538/):\n",
    "- с субботы 1 января на вторник 3 мая;\n",
    "- с воскресенья 2 января на вторник 10 мая;\n",
    "- с субботы 5 марта на понедельник 7 марта.\n",
    "\n",
    "[В 2023](http://www.consultant.ru/document/cons_doc_LAW_425407/):\n",
    "- с воскресенья 1 января на пятницу 24 февраля;\n",
    "- с воскресенья 8 января на понедельник 8 мая."
   ]
  },
  {
   "cell_type": "code",
   "execution_count": 42,
   "id": "7d2d1c86",
   "metadata": {},
   "outputs": [],
   "source": [
    "holidays = []\n",
    "\n",
    "for year in years:\n",
    "    days_and_months = holidays_till_2013 if (year <= 2012) else holidays_since_2013\n",
    "    dates = []\n",
    "    for index, row in days_and_months.iterrows():\n",
    "        dates.append(date(year, row['month'], row['day']))\n",
    "    holidays = holidays + dates"
   ]
  },
  {
   "cell_type": "code",
   "execution_count": 43,
   "id": "7add001e",
   "metadata": {},
   "outputs": [],
   "source": [
    "moved_weekends = \\\n",
    "    [date(2012, 1, 6),  date(2012, 1, 9),  date(2012, 3, 9)] + \\\n",
    "    [date(2012, 4, 30), date(2012, 5, 7),  date(2012, 5, 8)] + \\\n",
    "    [date(2012, 6, 11), date(2012, 11, 5), date(2012, 12, 31)] + \\\n",
    "    [date(2013, 2, 23), date(2013, 3, 8)] + \\\n",
    "    [date(2013, 5, 2),  date(2013, 5, 3), date(2013, 5, 10)] + \\\n",
    "    [date(2014, 3, 10)] + \\\n",
    "    [date(2014, 5, 2)] + \\\n",
    "    [date(2014, 6, 13), date(2014, 11, 3)] + \\\n",
    "    [date(2015, 1, 9)] + \\\n",
    "    [date(2015, 3, 9)] + \\\n",
    "    [date(2015, 5, 2)] + \\\n",
    "    [date(2015, 6, 13), date(2015, 11, 3)] + \\\n",
    "    [date(2016, 2, 22), date(2016, 3, 7)] + \\\n",
    "    [date(2016, 5, 2),  date(2016, 5, 3)] + \\\n",
    "    [date(2016, 6, 13)] + \\\n",
    "    [date(2017, 2, 24)] + \\\n",
    "    [date(2017, 5, 8)] + \\\n",
    "    [date(2017, 11, 6)] + \\\n",
    "    [date(2018, 3, 9)] + \\\n",
    "    [date(2018, 4, 30), date(2018, 5, 2)] + \\\n",
    "    [date(2018, 6, 11), date(2018, 11, 5), date(2012, 12, 31)] + \\\n",
    "    [date(2019, 5, 2),  date(2019, 5, 3),  date(2019, 5, 10)] + \\\n",
    "    [date(2020, 2, 24), date(2020, 3, 9)] + \\\n",
    "    [date(2020, 5, 4),  date(2020, 5, 5),  date(2020, 5, 11)] + \\\n",
    "    [date(2021, 2, 22)] + \\\n",
    "    [date(2021, 5, 3),  date(2021, 5, 10)] + \\\n",
    "    [date(2021, 6, 14), date(2021, 11, 5), date(2021, 12, 31)] + \\\n",
    "    [date(2022, 3, 7)] + \\\n",
    "    [date(2022, 5, 2),  date(2022, 5, 3),  date(2022, 5, 10)] + \\\n",
    "    [date(2022, 6, 13)] + \\\n",
    "    [date(2023, 2, 24)] + \\\n",
    "    [date(2023, 5, 8)] + \\\n",
    "    [date(2023, 11, 6)]"
   ]
  },
  {
   "cell_type": "code",
   "execution_count": 47,
   "id": "da355f21",
   "metadata": {},
   "outputs": [],
   "source": [
    "working_weekends = \\\n",
    "    [date(2012, 3, 11), date(2012, 4, 28), date(2012, 5, 5)] + \\\n",
    "    [date(2012, 5, 12), date(2012, 6, 9),  date(2012, 12, 29)] + \\\n",
    "    [date(2016, 2, 20)] + \\\n",
    "    [date(2018, 4, 28), date(2018, 6, 9),  date(2018, 12, 29)] + \\\n",
    "    [date(2021, 2, 20)] + \\\n",
    "    [date(2022, 3, 5)]"
   ]
  },
  {
   "cell_type": "code",
   "execution_count": 45,
   "id": "36d71a55",
   "metadata": {},
   "outputs": [],
   "source": [
    "short_workdays = \\\n",
    "    [date(2012, 2, 22), date(2012, 3, 7),  date(2012, 4, 28)] + \\\n",
    "    [date(2012, 5, 12), date(2012, 6, 9),  date(2012, 12, 29)] + \\\n",
    "    [date(2013, 2, 22), date(2013, 3, 7),  date(2013, 4, 30)] + \\\n",
    "    [date(2013, 5, 8),  date(2013, 6, 11), date(2013, 12, 31)] + \\\n",
    "    [date(2014, 2, 24), date(2014, 3, 7),  date(2014, 4, 30)] + \\\n",
    "    [date(2014, 5, 8),  date(2014, 6, 11), date(2014, 12, 31)] + \\\n",
    "    [date(2015, 4, 30), date(2015, 5, 8),  date(2015, 6, 11)] + \\\n",
    "    [date(2015, 11, 3), date(2015, 12, 31)] + \\\n",
    "    [date(2016, 2, 20), date(2016, 11, 3)] + \\\n",
    "    [date(2017, 2, 22), date(2017, 3, 7),  date(2017, 11, 3)] + \\\n",
    "    [date(2018, 2, 22), date(2018, 3, 7),  date(2018, 4, 28)] + \\\n",
    "    [date(2018, 5, 8),  date(2018, 6, 9),  date(2018, 12, 29)] + \\\n",
    "    [date(2019, 2, 22), date(2019, 3, 7),  date(2019, 4, 30)] + \\\n",
    "    [date(2019, 5, 8),  date(2019, 6, 11), date(2019, 12, 31)] + \\\n",
    "    [date(2020, 6, 11), date(2020, 11, 3), date(2020, 12, 31)] + \\\n",
    "    [date(2021, 2, 20), date(2021, 6, 11)] + \\\n",
    "    [date(2022, 2, 22), date(2022, 3, 5),  date(2022, 11, 3)] + \\\n",
    "    [date(2023, 2, 22), date(2023, 3, 7),  date(2023, 11, 3)]"
   ]
  },
  {
   "cell_type": "code",
   "execution_count": 49,
   "id": "1cdf698c",
   "metadata": {},
   "outputs": [],
   "source": [
    "def get_weekdays(year):\n",
    "    weekends = [] # Saturdays and Sundays\n",
    "    workdays = [] # all other weekdays\n",
    "    c = calendar.TextCalendar(calendar.MONDAY)\n",
    "    for month in range(1, 13):\n",
    "        for day in c.itermonthdays(year, month):\n",
    "            #calendar constructs months with leading zeros (days belonging to the previous month)\n",
    "            if day != 0:\n",
    "                d = date(year, month, day)\n",
    "                if d.weekday() == 6 or d.weekday() == 7: # if it is Saturday or Sunday\n",
    "                    weekends.append(d)\n",
    "                else:\n",
    "                    workdays.append(d)\n",
    "    return dict({'workdays': workdays, 'weekends': weekends})"
   ]
  },
  {
   "cell_type": "code",
   "execution_count": 52,
   "id": "e85611a5",
   "metadata": {},
   "outputs": [],
   "source": [
    "work_days = set()\n",
    "rest_days = set()\n",
    "\n",
    "for year in years:\n",
    "    all_days = get_weekdays(year)\n",
    "    work_days = work_days.union(all_days['workdays'])\n",
    "    rest_days = rest_days.union(all_days['weekends'])\n",
    "\n",
    "holidays_set = set(holidays)\n",
    "moved_weekends_set = set(moved_weekends)\n",
    "working_weekends_set = set(working_weekends)\n",
    "    \n",
    "work_days = sorted(\n",
    "    working_weekends_set.union(\n",
    "        work_days.difference(holidays_set, moved_weekends_set)\n",
    "    )\n",
    ")\n",
    "\n",
    "rest_days = sorted(\n",
    "    holidays_set.union(\n",
    "        moved_weekends_set,\n",
    "        rest_days.difference(working_weekends_set)\n",
    "    )\n",
    ")"
   ]
  },
  {
   "cell_type": "code",
   "execution_count": 14,
   "id": "918640cd",
   "metadata": {},
   "outputs": [],
   "source": [
    "# for year in years:\n",
    "#     for month in range(1, 13):\n",
    "#         for day in our_calendar.itermonthdates(year, month):\n",
    "#             if day in rest_days:\n",
    "#                 print(f\"{day} ({calendar.day_abbr[day.weekday()]})\")\n",
    "#             print(day)"
   ]
  },
  {
   "cell_type": "markdown",
   "id": "399f14dd",
   "metadata": {},
   "source": [
    "### Проверка корректности генерации списков"
   ]
  },
  {
   "cell_type": "code",
   "execution_count": 62,
   "id": "9d275117",
   "metadata": {
    "scrolled": true
   },
   "outputs": [
    {
     "data": {
      "text/html": [
       "<div>\n",
       "<style scoped>\n",
       "    .dataframe tbody tr th:only-of-type {\n",
       "        vertical-align: middle;\n",
       "    }\n",
       "\n",
       "    .dataframe tbody tr th {\n",
       "        vertical-align: top;\n",
       "    }\n",
       "\n",
       "    .dataframe thead th {\n",
       "        text-align: right;\n",
       "    }\n",
       "</style>\n",
       "<table border=\"1\" class=\"dataframe\">\n",
       "  <thead>\n",
       "    <tr style=\"text-align: right;\">\n",
       "      <th></th>\n",
       "      <th>year</th>\n",
       "      <th>work_days</th>\n",
       "      <th>rest_days</th>\n",
       "      <th>work_time_40</th>\n",
       "    </tr>\n",
       "  </thead>\n",
       "  <tbody>\n",
       "    <tr>\n",
       "      <th>0</th>\n",
       "      <td>2012</td>\n",
       "      <td>249</td>\n",
       "      <td>117</td>\n",
       "      <td>1986</td>\n",
       "    </tr>\n",
       "    <tr>\n",
       "      <th>1</th>\n",
       "      <td>2013</td>\n",
       "      <td>247</td>\n",
       "      <td>118</td>\n",
       "      <td>1970</td>\n",
       "    </tr>\n",
       "    <tr>\n",
       "      <th>2</th>\n",
       "      <td>2014</td>\n",
       "      <td>247</td>\n",
       "      <td>118</td>\n",
       "      <td>1970</td>\n",
       "    </tr>\n",
       "    <tr>\n",
       "      <th>3</th>\n",
       "      <td>2015</td>\n",
       "      <td>247</td>\n",
       "      <td>118</td>\n",
       "      <td>1971</td>\n",
       "    </tr>\n",
       "    <tr>\n",
       "      <th>4</th>\n",
       "      <td>2016</td>\n",
       "      <td>247</td>\n",
       "      <td>119</td>\n",
       "      <td>1974</td>\n",
       "    </tr>\n",
       "    <tr>\n",
       "      <th>5</th>\n",
       "      <td>2017</td>\n",
       "      <td>247</td>\n",
       "      <td>118</td>\n",
       "      <td>1973</td>\n",
       "    </tr>\n",
       "    <tr>\n",
       "      <th>6</th>\n",
       "      <td>2018</td>\n",
       "      <td>247</td>\n",
       "      <td>118</td>\n",
       "      <td>1970</td>\n",
       "    </tr>\n",
       "    <tr>\n",
       "      <th>7</th>\n",
       "      <td>2019</td>\n",
       "      <td>247</td>\n",
       "      <td>118</td>\n",
       "      <td>1970</td>\n",
       "    </tr>\n",
       "    <tr>\n",
       "      <th>8</th>\n",
       "      <td>2020</td>\n",
       "      <td>248</td>\n",
       "      <td>118</td>\n",
       "      <td>1979</td>\n",
       "    </tr>\n",
       "    <tr>\n",
       "      <th>9</th>\n",
       "      <td>2021</td>\n",
       "      <td>247</td>\n",
       "      <td>118</td>\n",
       "      <td>1972</td>\n",
       "    </tr>\n",
       "    <tr>\n",
       "      <th>10</th>\n",
       "      <td>2022</td>\n",
       "      <td>247</td>\n",
       "      <td>118</td>\n",
       "      <td>1973</td>\n",
       "    </tr>\n",
       "    <tr>\n",
       "      <th>11</th>\n",
       "      <td>2023</td>\n",
       "      <td>247</td>\n",
       "      <td>118</td>\n",
       "      <td>1973</td>\n",
       "    </tr>\n",
       "  </tbody>\n",
       "</table>\n",
       "</div>"
      ],
      "text/plain": [
       "    year  work_days  rest_days  work_time_40\n",
       "0   2012        249        117          1986\n",
       "1   2013        247        118          1970\n",
       "2   2014        247        118          1970\n",
       "3   2015        247        118          1971\n",
       "4   2016        247        119          1974\n",
       "5   2017        247        118          1973\n",
       "6   2018        247        118          1970\n",
       "7   2019        247        118          1970\n",
       "8   2020        248        118          1979\n",
       "9   2021        247        118          1972\n",
       "10  2022        247        118          1973\n",
       "11  2023        247        118          1973"
      ]
     },
     "execution_count": 62,
     "metadata": {},
     "output_type": "execute_result"
    }
   ],
   "source": [
    "summary = pd.read_excel('./work_and_rest_days.xlsx')\n",
    "summary"
   ]
  },
  {
   "cell_type": "code",
   "execution_count": 63,
   "id": "673dd04a",
   "metadata": {},
   "outputs": [],
   "source": [
    "get_summary = pd.DataFrame(data = {\"year\": summary.year})"
   ]
  },
  {
   "cell_type": "code",
   "execution_count": 56,
   "id": "37e26550",
   "metadata": {},
   "outputs": [],
   "source": [
    "def days_in_year(year):\n",
    "    return 366 if calendar.isleap(year) else 365"
   ]
  },
  {
   "cell_type": "code",
   "execution_count": 64,
   "id": "9cfd7c32",
   "metadata": {},
   "outputs": [],
   "source": [
    "get_summary['total_days'] = get_summary['year'].apply(days_in_year)"
   ]
  },
  {
   "cell_type": "code",
   "execution_count": 67,
   "id": "cdd18a67",
   "metadata": {},
   "outputs": [],
   "source": [
    "count_work_days = []\n",
    "count_rest_days = []\n",
    "count_short_workdays = []\n",
    "\n",
    "for y in years:\n",
    "    count_work_days.append(len([x for x in work_days if x.year == y]))\n",
    "    count_rest_days.append(len([x for x in rest_days if x.year == y]))\n",
    "    count_short_workdays.append(len([x for x in short_workdays if x.year == y]))\n",
    "\n",
    "get_summary['work_days'] = count_work_days\n",
    "get_summary['rest_days'] = count_rest_days\n",
    "get_summary['short_workdays'] = count_short_workdays\n",
    "get_summary['work_time_40'] = get_summary['work_days'] * 8 - get_summary['short_workdays']"
   ]
  },
  {
   "cell_type": "code",
   "execution_count": 68,
   "id": "6948b453",
   "metadata": {},
   "outputs": [
    {
     "data": {
      "text/html": [
       "<div>\n",
       "<style scoped>\n",
       "    .dataframe tbody tr th:only-of-type {\n",
       "        vertical-align: middle;\n",
       "    }\n",
       "\n",
       "    .dataframe tbody tr th {\n",
       "        vertical-align: top;\n",
       "    }\n",
       "\n",
       "    .dataframe thead th {\n",
       "        text-align: right;\n",
       "    }\n",
       "</style>\n",
       "<table border=\"1\" class=\"dataframe\">\n",
       "  <thead>\n",
       "    <tr style=\"text-align: right;\">\n",
       "      <th></th>\n",
       "      <th>year</th>\n",
       "      <th>total_days</th>\n",
       "      <th>work_days</th>\n",
       "      <th>rest_days</th>\n",
       "      <th>short_workdays</th>\n",
       "      <th>work_time_40</th>\n",
       "    </tr>\n",
       "  </thead>\n",
       "  <tbody>\n",
       "    <tr>\n",
       "      <th>0</th>\n",
       "      <td>2012</td>\n",
       "      <td>366</td>\n",
       "      <td>295</td>\n",
       "      <td>71</td>\n",
       "      <td>6</td>\n",
       "      <td>2354</td>\n",
       "    </tr>\n",
       "    <tr>\n",
       "      <th>1</th>\n",
       "      <td>2013</td>\n",
       "      <td>365</td>\n",
       "      <td>297</td>\n",
       "      <td>68</td>\n",
       "      <td>6</td>\n",
       "      <td>2370</td>\n",
       "    </tr>\n",
       "    <tr>\n",
       "      <th>2</th>\n",
       "      <td>2014</td>\n",
       "      <td>365</td>\n",
       "      <td>297</td>\n",
       "      <td>68</td>\n",
       "      <td>6</td>\n",
       "      <td>2370</td>\n",
       "    </tr>\n",
       "    <tr>\n",
       "      <th>3</th>\n",
       "      <td>2015</td>\n",
       "      <td>365</td>\n",
       "      <td>296</td>\n",
       "      <td>69</td>\n",
       "      <td>5</td>\n",
       "      <td>2363</td>\n",
       "    </tr>\n",
       "    <tr>\n",
       "      <th>4</th>\n",
       "      <td>2016</td>\n",
       "      <td>366</td>\n",
       "      <td>298</td>\n",
       "      <td>68</td>\n",
       "      <td>2</td>\n",
       "      <td>2382</td>\n",
       "    </tr>\n",
       "    <tr>\n",
       "      <th>5</th>\n",
       "      <td>2017</td>\n",
       "      <td>365</td>\n",
       "      <td>297</td>\n",
       "      <td>68</td>\n",
       "      <td>3</td>\n",
       "      <td>2373</td>\n",
       "    </tr>\n",
       "    <tr>\n",
       "      <th>6</th>\n",
       "      <td>2018</td>\n",
       "      <td>365</td>\n",
       "      <td>296</td>\n",
       "      <td>69</td>\n",
       "      <td>6</td>\n",
       "      <td>2362</td>\n",
       "    </tr>\n",
       "    <tr>\n",
       "      <th>7</th>\n",
       "      <td>2019</td>\n",
       "      <td>365</td>\n",
       "      <td>297</td>\n",
       "      <td>68</td>\n",
       "      <td>6</td>\n",
       "      <td>2370</td>\n",
       "    </tr>\n",
       "    <tr>\n",
       "      <th>8</th>\n",
       "      <td>2020</td>\n",
       "      <td>366</td>\n",
       "      <td>298</td>\n",
       "      <td>68</td>\n",
       "      <td>3</td>\n",
       "      <td>2381</td>\n",
       "    </tr>\n",
       "    <tr>\n",
       "      <th>9</th>\n",
       "      <td>2021</td>\n",
       "      <td>365</td>\n",
       "      <td>295</td>\n",
       "      <td>70</td>\n",
       "      <td>2</td>\n",
       "      <td>2358</td>\n",
       "    </tr>\n",
       "    <tr>\n",
       "      <th>10</th>\n",
       "      <td>2022</td>\n",
       "      <td>365</td>\n",
       "      <td>297</td>\n",
       "      <td>68</td>\n",
       "      <td>3</td>\n",
       "      <td>2373</td>\n",
       "    </tr>\n",
       "    <tr>\n",
       "      <th>11</th>\n",
       "      <td>2023</td>\n",
       "      <td>365</td>\n",
       "      <td>297</td>\n",
       "      <td>68</td>\n",
       "      <td>3</td>\n",
       "      <td>2373</td>\n",
       "    </tr>\n",
       "  </tbody>\n",
       "</table>\n",
       "</div>"
      ],
      "text/plain": [
       "    year  total_days  work_days  rest_days  short_workdays  work_time_40\n",
       "0   2012         366        295         71               6          2354\n",
       "1   2013         365        297         68               6          2370\n",
       "2   2014         365        297         68               6          2370\n",
       "3   2015         365        296         69               5          2363\n",
       "4   2016         366        298         68               2          2382\n",
       "5   2017         365        297         68               3          2373\n",
       "6   2018         365        296         69               6          2362\n",
       "7   2019         365        297         68               6          2370\n",
       "8   2020         366        298         68               3          2381\n",
       "9   2021         365        295         70               2          2358\n",
       "10  2022         365        297         68               3          2373\n",
       "11  2023         365        297         68               3          2373"
      ]
     },
     "execution_count": 68,
     "metadata": {},
     "output_type": "execute_result"
    }
   ],
   "source": [
    "get_summary"
   ]
  },
  {
   "cell_type": "code",
   "execution_count": 21,
   "id": "2f81c084",
   "metadata": {},
   "outputs": [],
   "source": [
    "# this_year = date.today().year\n",
    "# this_year"
   ]
  },
  {
   "cell_type": "markdown",
   "id": "4ff4bef5",
   "metadata": {},
   "source": [
    "# Создание объектов"
   ]
  },
  {
   "cell_type": "code",
   "execution_count": 24,
   "id": "ec47f2d7",
   "metadata": {},
   "outputs": [],
   "source": [
    "class WorkTable:\n",
    "    def __init__(self, year):\n",
    "        assert year >= 2012\n",
    "        self.year = year\n",
    "        self.weekdays = get_weekdays(self.year)\n",
    "    \n",
    "    def is_leap(self):\n",
    "        return calendar.isleap(self.year)\n",
    "    \n",
    "    def total_days(self):\n",
    "        return 366 if calendar.isleap(self.year) else 365  "
   ]
  },
  {
   "cell_type": "code",
   "execution_count": null,
   "id": "88375a74",
   "metadata": {},
   "outputs": [],
   "source": [
    "# 366 if calendar.isleap(year) else 365"
   ]
  }
 ],
 "metadata": {
  "kernelspec": {
   "display_name": "Python 3 (ipykernel)",
   "language": "python",
   "name": "python3"
  },
  "language_info": {
   "codemirror_mode": {
    "name": "ipython",
    "version": 3
   },
   "file_extension": ".py",
   "mimetype": "text/x-python",
   "name": "python",
   "nbconvert_exporter": "python",
   "pygments_lexer": "ipython3",
   "version": "3.9.12"
  }
 },
 "nbformat": 4,
 "nbformat_minor": 5
}
