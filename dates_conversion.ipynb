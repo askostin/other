{
 "cells": [
  {
   "cell_type": "code",
   "execution_count": 45,
   "id": "43c9e125",
   "metadata": {},
   "outputs": [],
   "source": [
    "import re"
   ]
  },
  {
   "cell_type": "code",
   "execution_count": 46,
   "id": "125cd776",
   "metadata": {},
   "outputs": [],
   "source": [
    "months = {\n",
    "    1: 'Январь', 2: 'Февраль', 3: 'Март',\n",
    "    4: 'Апрель', 5: 'Май', 6: 'Июнь',\n",
    "    7: 'Июль', 8: 'Август', 9: 'Сентябрь',\n",
    "    10: 'Октябрь', 11: 'Ноябрь', 12: 'Декабрь'\n",
    "}"
   ]
  },
  {
   "cell_type": "code",
   "execution_count": 49,
   "id": "10367848",
   "metadata": {},
   "outputs": [],
   "source": [
    "with open('./dates.txt', 'r', encoding='utf8') as file_in, open('./dates2.txt', 'a', encoding='utf8') as file_out:\n",
    "    for monthly_note in file_in:\n",
    "        first_date = re.search(r'\\d{0,1}\\d\\.(\\d\\d)\\.(\\d\\d\\d\\d)', monthly_note)\n",
    "        file_out.write(f\"{months[int(first_date.group(1))]} {first_date.group(2)}:\\n\")\n",
    "        file_out.write(re.sub(r'20(\\d\\d)', r'\\1', monthly_note))"
   ]
  }
 ],
 "metadata": {
  "kernelspec": {
   "display_name": "Python 3",
   "language": "python",
   "name": "python3"
  },
  "language_info": {
   "codemirror_mode": {
    "name": "ipython",
    "version": 3
   },
   "file_extension": ".py",
   "mimetype": "text/x-python",
   "name": "python",
   "nbconvert_exporter": "python",
   "pygments_lexer": "ipython3",
   "version": "3.8.8"
  }
 },
 "nbformat": 4,
 "nbformat_minor": 5
}
